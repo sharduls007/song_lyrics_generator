{
  "nbformat": 4,
  "nbformat_minor": 0,
  "metadata": {
    "colab": {
      "provenance": []
    },
    "kernelspec": {
      "name": "python3",
      "display_name": "Python 3"
    },
    "language_info": {
      "name": "python"
    }
  },
  "cells": [
    {
      "cell_type": "code",
      "execution_count": 1,
      "metadata": {
        "id": "qIHd2awyeOXD"
      },
      "outputs": [],
      "source": [
        "import os\n",
        "import numpy as np\n",
        "import matplotlib.pyplot as plt\n",
        "from tensorflow.keras.models import Sequential\n",
        "from tensorflow.keras.utils import to_categorical\n",
        "from tensorflow.keras.preprocessing.text import Tokenizer\n",
        "from tensorflow.keras.preprocessing.sequence import pad_sequences\n",
        "from tensorflow.keras.layers import Embedding, LSTM, Dense, Bidirectional\n",
        "from sklearn.model_selection import train_test_split"
      ]
    },
    {
      "cell_type": "code",
      "source": [
        "album_path = \"/content/drive/MyDrive/Colab_Notebooks/Outsystems/data/Albums\"\n",
        "text_data = []\n",
        "for root, dirs, files in os.walk(album_path):\n",
        "    for name in files:\n",
        "        with open(os.path.join(root, name), mode=\"r\", encoding=\"utf-8\") as f:\n",
        "            lines = f.readlines()[1:]\n",
        "            # adding [EOS] at the end of each song\n",
        "            lines = \"\".join(lines)\n",
        "            text_data.append(lines)\n",
        "            f.close()"
      ],
      "metadata": {
        "id": "1QyWVoDNfn6M"
      },
      "execution_count": 2,
      "outputs": []
    },
    {
      "cell_type": "code",
      "source": [
        "# Splitting data into 80-10-10 data split\n",
        "train, val = train_test_split(text_data, test_size=0.1, random_state=99)\n",
        "train, test = train_test_split(train, test_size=0.1, random_state=99)\n",
        "\n",
        "train_text = \"\".join(train).split(\"\\n\")\n",
        "val_text = \"\".join(val).split(\"\\n\")\n",
        "test_text = \"\".join(test).split(\"\\n\")"
      ],
      "metadata": {
        "id": "hqp6iYDIhYxV"
      },
      "execution_count": 3,
      "outputs": []
    },
    {
      "cell_type": "code",
      "source": [
        "train_text[0]"
      ],
      "metadata": {
        "colab": {
          "base_uri": "https://localhost:8080/",
          "height": 35
        },
        "id": "aOAj-knikX3G",
        "outputId": "c91d802c-9b12-47f9-fe42-c7d80814ce2b"
      },
      "execution_count": 4,
      "outputs": [
        {
          "output_type": "execute_result",
          "data": {
            "text/plain": [
              "'I want you to know'"
            ],
            "application/vnd.google.colaboratory.intrinsic+json": {
              "type": "string"
            }
          },
          "metadata": {},
          "execution_count": 4
        }
      ]
    },
    {
      "cell_type": "code",
      "source": [
        "tokenizer = Tokenizer()\n",
        "tokenizer.fit_on_texts(train_text)\n",
        "total_words = len(tokenizer.word_index) + 1"
      ],
      "metadata": {
        "id": "OrYMhUiukHhV"
      },
      "execution_count": 5,
      "outputs": []
    },
    {
      "cell_type": "code",
      "source": [
        "tokenizer.texts_to_sequences([train_text[0]])"
      ],
      "metadata": {
        "colab": {
          "base_uri": "https://localhost:8080/"
        },
        "id": "6PCAAAX9kRgn",
        "outputId": "fa694f63-d138-45eb-e5f6-3159c1c9123a"
      },
      "execution_count": 6,
      "outputs": [
        {
          "output_type": "execute_result",
          "data": {
            "text/plain": [
              "[[3, 99, 2, 5, 27]]"
            ]
          },
          "metadata": {},
          "execution_count": 6
        }
      ]
    },
    {
      "cell_type": "code",
      "source": [
        "def n_gram_seqs(corpus, tokenizer):\n",
        "    \"\"\"\n",
        "    Generates a list of n-gram sequences\n",
        "\n",
        "    Args:\n",
        "        corpus (list of string): lines of texts to generate n-grams for\n",
        "        tokenizer (object): an instance of the Tokenizer class containing the word-index dictionary\n",
        "\n",
        "    Returns:\n",
        "        input_sequences (list of int): the n-gram sequences for each line in the corpus\n",
        "    \"\"\"\n",
        "    input_sequences = []\n",
        "\n",
        "    ### START CODE HERE\n",
        "    for text in corpus:\n",
        "      seq = tokenizer.texts_to_sequences([text])[0]\n",
        "      if seq != []:\n",
        "          for i in range(1,len(seq)):\n",
        "            input_sequences.append(seq[:i+1])\n",
        "\n",
        "    ### END CODE HERE\n",
        "\n",
        "    return input_sequences"
      ],
      "metadata": {
        "id": "4VYn8bh6lBkj"
      },
      "execution_count": 7,
      "outputs": []
    },
    {
      "cell_type": "code",
      "source": [
        "first_example_sequence = n_gram_seqs([train_text[0]], tokenizer)\n",
        "\n",
        "print(\"n_gram sequences for first example look like this:\\n\")\n",
        "first_example_sequence"
      ],
      "metadata": {
        "colab": {
          "base_uri": "https://localhost:8080/"
        },
        "id": "VN9Fu0ZelYIY",
        "outputId": "6fe92bd4-7fb6-4568-8244-23f9933a3dd4"
      },
      "execution_count": 8,
      "outputs": [
        {
          "output_type": "stream",
          "name": "stdout",
          "text": [
            "n_gram sequences for first example look like this:\n",
            "\n"
          ]
        },
        {
          "output_type": "execute_result",
          "data": {
            "text/plain": [
              "[[3, 99], [3, 99, 2], [3, 99, 2, 5], [3, 99, 2, 5, 27]]"
            ]
          },
          "metadata": {},
          "execution_count": 8
        }
      ]
    },
    {
      "cell_type": "code",
      "source": [
        "# Test your function with a bigger corpus\n",
        "next_3_examples_sequence = n_gram_seqs(train_text[1:4], tokenizer)\n",
        "\n",
        "print(\"n_gram sequences for next 3 examples look like this:\\n\")\n",
        "next_3_examples_sequence"
      ],
      "metadata": {
        "colab": {
          "base_uri": "https://localhost:8080/"
        },
        "id": "JXTjN8Delgmj",
        "outputId": "c2b5befb-8338-496a-8ed3-27d8b33902e6"
      },
      "execution_count": 9,
      "outputs": [
        {
          "output_type": "stream",
          "name": "stdout",
          "text": [
            "n_gram sequences for next 3 examples look like this:\n",
            "\n"
          ]
        },
        {
          "output_type": "execute_result",
          "data": {
            "text/plain": [
              "[[20, 6],\n",
              " [20, 6, 1332],\n",
              " [77, 387],\n",
              " [77, 387, 2],\n",
              " [77, 387, 2, 126],\n",
              " [77, 387, 2, 126, 1333],\n",
              " [77, 387, 2, 126, 1333, 10],\n",
              " [77, 387, 2, 126, 1333, 10, 607],\n",
              " [77, 387, 2, 126, 1333, 10, 607, 350],\n",
              " [77, 4357],\n",
              " [77, 4357, 21],\n",
              " [77, 4357, 21, 4358]]"
            ]
          },
          "metadata": {},
          "execution_count": 9
        }
      ]
    },
    {
      "cell_type": "code",
      "source": [
        "# Apply the n_gram_seqs transformation to the whole corpus\n",
        "input_sequences = n_gram_seqs(train_text, tokenizer)\n",
        "\n",
        "# Save max length\n",
        "# max_sequence_len = max([len(x) for x in input_sequences])\n",
        "max_sequence_len = 16\n",
        "\n",
        "print(f\"n_grams of input_sequences have length: {len(input_sequences)}\")\n",
        "print(f\"maximum length of sequences is: {max_sequence_len}\")"
      ],
      "metadata": {
        "colab": {
          "base_uri": "https://localhost:8080/"
        },
        "id": "2gYIVMBBmLI4",
        "outputId": "bbc5d0db-e6ae-4803-f47d-a3d48c25cdea"
      },
      "execution_count": 10,
      "outputs": [
        {
          "output_type": "stream",
          "name": "stdout",
          "text": [
            "n_grams of input_sequences have length: 164680\n",
            "maximum length of sequences is: 16\n"
          ]
        }
      ]
    },
    {
      "cell_type": "code",
      "source": [
        "def pad_seqs(input_sequences, maxlen):\n",
        "    \"\"\"\n",
        "    Pads tokenized sequences to the same length\n",
        "\n",
        "    Args:\n",
        "        input_sequences (list of int): tokenized sequences to pad\n",
        "        maxlen (int): maximum length of the token sequences\n",
        "\n",
        "    Returns:\n",
        "        padded_sequences (array of int): tokenized sequences padded to the same length\n",
        "    \"\"\"\n",
        "    ### START CODE HERE\n",
        "    padded_sequences = pad_sequences(input_sequences, maxlen=maxlen, padding='pre')\n",
        "\n",
        "    return padded_sequences\n",
        "    ### END CODE HERE"
      ],
      "metadata": {
        "id": "QtW1j43wll7R"
      },
      "execution_count": 11,
      "outputs": []
    },
    {
      "cell_type": "code",
      "source": [
        "# Test your function with the n_grams_seq of the first example\n",
        "first_padded_seq = pad_seqs(first_example_sequence, max([len(x) for x in first_example_sequence]))\n",
        "first_padded_seq"
      ],
      "metadata": {
        "colab": {
          "base_uri": "https://localhost:8080/"
        },
        "id": "qoWD9RDGmHT2",
        "outputId": "cd027d4b-fe9b-465f-d4bd-68e51ecba9f0"
      },
      "execution_count": 12,
      "outputs": [
        {
          "output_type": "execute_result",
          "data": {
            "text/plain": [
              "array([[ 0,  0,  0,  3, 99],\n",
              "       [ 0,  0,  3, 99,  2],\n",
              "       [ 0,  3, 99,  2,  5],\n",
              "       [ 3, 99,  2,  5, 27]], dtype=int32)"
            ]
          },
          "metadata": {},
          "execution_count": 12
        }
      ]
    },
    {
      "cell_type": "code",
      "source": [
        "# Test your function with the n_grams_seq of the next 3 examples\n",
        "next_3_padded_seq = pad_seqs(next_3_examples_sequence, max([len(s) for s in next_3_examples_sequence]))\n",
        "next_3_padded_seq"
      ],
      "metadata": {
        "colab": {
          "base_uri": "https://localhost:8080/"
        },
        "id": "fW4mCWCTmb3u",
        "outputId": "6c115b64-f3b9-4229-c72e-a47b37c6e78c"
      },
      "execution_count": 13,
      "outputs": [
        {
          "output_type": "execute_result",
          "data": {
            "text/plain": [
              "array([[   0,    0,    0,    0,    0,    0,   20,    6],\n",
              "       [   0,    0,    0,    0,    0,   20,    6, 1332],\n",
              "       [   0,    0,    0,    0,    0,    0,   77,  387],\n",
              "       [   0,    0,    0,    0,    0,   77,  387,    2],\n",
              "       [   0,    0,    0,    0,   77,  387,    2,  126],\n",
              "       [   0,    0,    0,   77,  387,    2,  126, 1333],\n",
              "       [   0,    0,   77,  387,    2,  126, 1333,   10],\n",
              "       [   0,   77,  387,    2,  126, 1333,   10,  607],\n",
              "       [  77,  387,    2,  126, 1333,   10,  607,  350],\n",
              "       [   0,    0,    0,    0,    0,    0,   77, 4357],\n",
              "       [   0,    0,    0,    0,    0,   77, 4357,   21],\n",
              "       [   0,    0,    0,    0,   77, 4357,   21, 4358]], dtype=int32)"
            ]
          },
          "metadata": {},
          "execution_count": 13
        }
      ]
    },
    {
      "cell_type": "code",
      "source": [
        "# Pad the whole corpus\n",
        "input_sequences = pad_seqs(input_sequences, max_sequence_len)\n",
        "\n",
        "print(f\"padded corpus has shape: {input_sequences.shape}\")"
      ],
      "metadata": {
        "colab": {
          "base_uri": "https://localhost:8080/"
        },
        "id": "lGuI66glmis_",
        "outputId": "9accc9ef-5c92-49f1-d876-c68594bd8b44"
      },
      "execution_count": 14,
      "outputs": [
        {
          "output_type": "stream",
          "name": "stdout",
          "text": [
            "padded corpus has shape: (164680, 16)\n"
          ]
        }
      ]
    },
    {
      "cell_type": "code",
      "source": [
        "def features_and_labels(input_sequences, total_words):\n",
        "    \"\"\"\n",
        "    Generates features and labels from n-grams\n",
        "\n",
        "    Args:\n",
        "        input_sequences (list of int): sequences to split features and labels from\n",
        "        total_words (int): vocabulary size\n",
        "\n",
        "    Returns:\n",
        "        features, one_hot_labels (array of int, array of int): arrays of features and one-hot encoded labels\n",
        "    \"\"\"\n",
        "    ### START CODE HERE\n",
        "    features = input_sequences[:,:-1]\n",
        "    labels = input_sequences[:,-1]\n",
        "    one_hot_labels = to_categorical(labels, num_classes=total_words)\n",
        "    ### END CODE HERE\n",
        "\n",
        "    return features, one_hot_labels"
      ],
      "metadata": {
        "id": "jrv1rXDzmlVm"
      },
      "execution_count": 15,
      "outputs": []
    },
    {
      "cell_type": "code",
      "source": [
        "# Test your function with the padded n_grams_seq of the first example\n",
        "first_features, first_labels = features_and_labels(first_padded_seq, total_words)\n",
        "\n",
        "print(f\"labels have shape: {first_labels.shape}\")\n",
        "print(\"\\nfeatures look like this:\\n\")\n",
        "first_features"
      ],
      "metadata": {
        "colab": {
          "base_uri": "https://localhost:8080/"
        },
        "id": "NxecZ89Amqwg",
        "outputId": "80b20361-52ee-4baf-b3f1-d46e75fa7b8d"
      },
      "execution_count": 16,
      "outputs": [
        {
          "output_type": "stream",
          "name": "stdout",
          "text": [
            "labels have shape: (4, 9949)\n",
            "\n",
            "features look like this:\n",
            "\n"
          ]
        },
        {
          "output_type": "execute_result",
          "data": {
            "text/plain": [
              "array([[ 0,  0,  0,  3],\n",
              "       [ 0,  0,  3, 99],\n",
              "       [ 0,  3, 99,  2],\n",
              "       [ 3, 99,  2,  5]], dtype=int32)"
            ]
          },
          "metadata": {},
          "execution_count": 16
        }
      ]
    },
    {
      "cell_type": "code",
      "source": [
        "# Split the whole corpus\n",
        "features, labels = features_and_labels(input_sequences, total_words)\n",
        "\n",
        "print(f\"features have shape: {features.shape}\")\n",
        "print(f\"labels have shape: {labels.shape}\")"
      ],
      "metadata": {
        "colab": {
          "base_uri": "https://localhost:8080/"
        },
        "id": "LZBw4gWrmsmQ",
        "outputId": "afe2c247-cc74-4bda-a91e-6cc87516eaf1"
      },
      "execution_count": 17,
      "outputs": [
        {
          "output_type": "stream",
          "name": "stdout",
          "text": [
            "features have shape: (164680, 15)\n",
            "labels have shape: (164680, 9949)\n"
          ]
        }
      ]
    },
    {
      "cell_type": "code",
      "source": [
        "def create_model(total_words, max_sequence_len):\n",
        "    \"\"\"\n",
        "    Creates a text generator model\n",
        "\n",
        "    Args:\n",
        "        total_words (int): size of the vocabulary for the Embedding layer input\n",
        "        max_sequence_len (int): length of the input sequences\n",
        "\n",
        "    Returns:\n",
        "        model (tf.keras Model): the text generator model\n",
        "    \"\"\"\n",
        "    model = Sequential()\n",
        "    ### START CODE HERE\n",
        "    model.add(Embedding(total_words, 100, input_length=max_sequence_len-1))\n",
        "    model.add(Bidirectional(LSTM(150)))\n",
        "    model.add(Dense(total_words, activation='softmax'))\n",
        "\n",
        "\n",
        "    # Compile the model\n",
        "    model.compile(loss='categorical_crossentropy',\n",
        "                  optimizer='adam',\n",
        "                  metrics=['accuracy'])\n",
        "\n",
        "    ### END CODE HERE\n",
        "\n",
        "    return model"
      ],
      "metadata": {
        "id": "b0GvpVJAmwww"
      },
      "execution_count": 18,
      "outputs": []
    },
    {
      "cell_type": "code",
      "source": [
        "# Get the untrained model\n",
        "model = create_model(total_words, max_sequence_len)\n",
        "\n",
        "# Train the model\n",
        "history = model.fit(features, labels, epochs=20, verbose=1)"
      ],
      "metadata": {
        "colab": {
          "base_uri": "https://localhost:8080/"
        },
        "id": "CA7M0qKOm1Ex",
        "outputId": "e5b129ec-c07a-4960-9a78-df84cc766dfa"
      },
      "execution_count": 19,
      "outputs": [
        {
          "output_type": "stream",
          "name": "stdout",
          "text": [
            "Epoch 1/20\n",
            "5147/5147 [==============================] - 432s 83ms/step - loss: 5.7858 - accuracy: 0.1087\n",
            "Epoch 2/20\n",
            "5147/5147 [==============================] - 403s 78ms/step - loss: 4.4086 - accuracy: 0.2400\n",
            "Epoch 3/20\n",
            "5147/5147 [==============================] - 411s 80ms/step - loss: 3.5528 - accuracy: 0.3520\n",
            "Epoch 4/20\n",
            "5147/5147 [==============================] - 407s 79ms/step - loss: 2.9127 - accuracy: 0.4444\n",
            "Epoch 5/20\n",
            "5147/5147 [==============================] - 410s 80ms/step - loss: 2.4368 - accuracy: 0.5181\n",
            "Epoch 6/20\n",
            "5147/5147 [==============================] - 429s 83ms/step - loss: 2.0762 - accuracy: 0.5769\n",
            "Epoch 7/20\n",
            "5147/5147 [==============================] - 421s 82ms/step - loss: 1.8018 - accuracy: 0.6228\n",
            "Epoch 8/20\n",
            "5147/5147 [==============================] - 427s 83ms/step - loss: 1.5907 - accuracy: 0.6592\n",
            "Epoch 9/20\n",
            "5147/5147 [==============================] - 431s 84ms/step - loss: 1.4224 - accuracy: 0.6890\n",
            "Epoch 10/20\n",
            "5147/5147 [==============================] - 439s 85ms/step - loss: 1.2897 - accuracy: 0.7125\n",
            "Epoch 11/20\n",
            "5147/5147 [==============================] - 427s 83ms/step - loss: 1.1821 - accuracy: 0.7343\n",
            "Epoch 12/20\n",
            "5147/5147 [==============================] - 408s 79ms/step - loss: 1.0973 - accuracy: 0.7498\n",
            "Epoch 13/20\n",
            "5147/5147 [==============================] - 416s 81ms/step - loss: 1.0233 - accuracy: 0.7639\n",
            "Epoch 14/20\n",
            "5147/5147 [==============================] - 415s 81ms/step - loss: 0.9680 - accuracy: 0.7740\n",
            "Epoch 15/20\n",
            "5147/5147 [==============================] - 411s 80ms/step - loss: 0.9197 - accuracy: 0.7838\n",
            "Epoch 16/20\n",
            "5147/5147 [==============================] - 416s 81ms/step - loss: 0.8795 - accuracy: 0.7908\n",
            "Epoch 17/20\n",
            "5147/5147 [==============================] - 413s 80ms/step - loss: 0.8480 - accuracy: 0.7966\n",
            "Epoch 18/20\n",
            "5147/5147 [==============================] - 401s 78ms/step - loss: 0.8209 - accuracy: 0.8018\n",
            "Epoch 19/20\n",
            "5147/5147 [==============================] - 419s 81ms/step - loss: 0.7986 - accuracy: 0.8060\n",
            "Epoch 20/20\n",
            "5147/5147 [==============================] - 421s 82ms/step - loss: 0.7814 - accuracy: 0.8087\n"
          ]
        }
      ]
    },
    {
      "cell_type": "code",
      "source": [
        "# Take a look at the training curves of your model\n",
        "\n",
        "acc = history.history['accuracy']\n",
        "loss = history.history['loss']\n",
        "\n",
        "epochs = range(len(acc))\n",
        "\n",
        "plt.plot(epochs, acc, 'b', label='Training accuracy')\n",
        "plt.title('Training accuracy')\n",
        "\n",
        "plt.figure()\n",
        "\n",
        "plt.plot(epochs, loss, 'b', label='Training Loss')\n",
        "plt.title('Training loss')\n",
        "plt.legend()\n",
        "\n",
        "plt.show()"
      ],
      "metadata": {
        "colab": {
          "base_uri": "https://localhost:8080/",
          "height": 887
        },
        "id": "zSt4eF9Cm3MD",
        "outputId": "47edb08a-0045-4b89-cc77-30374fc599e1"
      },
      "execution_count": 20,
      "outputs": [
        {
          "output_type": "display_data",
          "data": {
            "text/plain": [
              "<Figure size 640x480 with 1 Axes>"
            ],
            "image/png": "[encoded data removed]"
          },
          "metadata": {}
        },
        {
          "output_type": "display_data",
          "data": {
            "text/plain": [
              "<Figure size 640x480 with 1 Axes>"
            ],
            "image/png": "[encoded data removed]"
          },
          "metadata": {}
        }
      ]
    },
    {
      "cell_type": "code",
      "source": [],
      "metadata": {
        "id": "VnM3CoDfm8Zx"
      },
      "execution_count": 20,
      "outputs": []
    },
    {
      "cell_type": "code",
      "source": [
        "def download_history():\n",
        "  import pickle\n",
        "  from google.colab import files\n",
        "\n",
        "  with open('history.pkl', 'wb') as f:\n",
        "    pickle.dump(history.history, f)\n",
        "\n",
        "  files.download('history.pkl')\n",
        "\n",
        "download_history()"
      ],
      "metadata": {
        "colab": {
          "base_uri": "https://localhost:8080/",
          "height": 17
        },
        "id": "Ir9swwUrqkhR",
        "outputId": "7ebd632f-9e87-4b27-fad6-aa4832aed373"
      },
      "execution_count": 21,
      "outputs": [
        {
          "output_type": "display_data",
          "data": {
            "text/plain": [
              "<IPython.core.display.Javascript object>"
            ],
            "application/javascript": [
              "\n",
              "    async function download(id, filename, size) {\n",
              "      if (!google.colab.kernel.accessAllowed) {\n",
              "        return;\n",
              "      }\n",
              "      const div = document.createElement('div');\n",
              "      const label = document.createElement('label');\n",
              "      label.textContent = `Downloading \"${filename}\": `;\n",
              "      div.appendChild(label);\n",
              "      const progress = document.createElement('progress');\n",
              "      progress.max = size;\n",
              "      div.appendChild(progress);\n",
              "      document.body.appendChild(div);\n",
              "\n",
              "      const buffers = [];\n",
              "      let downloaded = 0;\n",
              "\n",
              "      const channel = await google.colab.kernel.comms.open(id);\n",
              "      // Send a message to notify the kernel that we're ready.\n",
              "      channel.send({})\n",
              "\n",
              "      for await (const message of channel.messages) {\n",
              "        // Send a message to notify the kernel that we're ready.\n",
              "        channel.send({})\n",
              "        if (message.buffers) {\n",
              "          for (const buffer of message.buffers) {\n",
              "            buffers.push(buffer);\n",
              "            downloaded += buffer.byteLength;\n",
              "            progress.value = downloaded;\n",
              "          }\n",
              "        }\n",
              "      }\n",
              "      const blob = new Blob(buffers, {type: 'application/binary'});\n",
              "      const a = document.createElement('a');\n",
              "      a.href = window.URL.createObjectURL(blob);\n",
              "      a.download = filename;\n",
              "      div.appendChild(a);\n",
              "      a.click();\n",
              "      div.remove();\n",
              "    }\n",
              "  "
            ]
          },
          "metadata": {}
        },
        {
          "output_type": "display_data",
          "data": {
            "text/plain": [
              "<IPython.core.display.Javascript object>"
            ],
            "application/javascript": [
              "download(\"download_e0425799-0183-4395-8494-00f2eda5a734\", \"history.pkl\", 402)"
            ]
          },
          "metadata": {}
        }
      ]
    },
    {
      "cell_type": "code",
      "source": [
        "seed_text = test_text[0]\n",
        "next_words = 100\n",
        "\n",
        "for _ in range(next_words):\n",
        "    # Convert the text into sequences\n",
        "    token_list = tokenizer.texts_to_sequences([seed_text])[0]\n",
        "    # Pad the sequences\n",
        "    token_list = pad_sequences([token_list], maxlen=max_sequence_len-1, padding='pre')\n",
        "    # Get the probabilities of predicting a word\n",
        "    predicted = model.predict(token_list, verbose=0)\n",
        "    # Choose the next word based on the maximum probability\n",
        "    predicted = np.argmax(predicted, axis=-1).item()\n",
        "    # Get the actual word from the word index\n",
        "    output_word = tokenizer.index_word[predicted]\n",
        "    # Append to the current text\n",
        "    seed_text += \" \" + output_word\n",
        "\n",
        "print(seed_text)"
      ],
      "metadata": {
        "colab": {
          "base_uri": "https://localhost:8080/"
        },
        "id": "Rv0KohAIqlHN",
        "outputId": "c70546e1-cfab-4c2b-9d35-8f0016a6123b"
      },
      "execution_count": 22,
      "outputs": [
        {
          "output_type": "stream",
          "name": "stdout",
          "text": [
            "I am not the kind of girl in a new new new meminerim me to me to my stranger on all feel a friend to be true we on the way and take the things i shew'd you all get the rest of the don’t your life who don't see my own breath on the best way home you made me some things just see that you see the best will see you here then you don’t change my friends who are more for you a change in your friends and your friend go life to be straight led at way home you from me to the\n"
          ]
        }
      ]
    },
    {
      "cell_type": "code",
      "source": [],
      "metadata": {
        "id": "dmE9yYj40J93"
      },
      "execution_count": 22,
      "outputs": []
    }
  ]
}